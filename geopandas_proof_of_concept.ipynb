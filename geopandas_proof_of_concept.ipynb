{
 "cells": [
  {
   "cell_type": "code",
   "execution_count": 3,
   "metadata": {},
   "outputs": [],
   "source": [
    "from shapely.geometry import Polygon\n",
    "import pandas as pd, numpy as np\n",
    "import geopandas\n",
    "import matplotlib.pyplot as plot"
   ]
  },
  {
   "cell_type": "markdown",
   "metadata": {},
   "source": [
    "Define some polygons to serve as census tracts (yellow) and station buffers (green; they're squares right now but bear with me I'm a n00b). The plot shows that the Stop1 buffer overlaps with Tract1 and Tract2 and the Stop2 buffer overlaps with Tract2 and Tract3"
   ]
  },
  {
   "cell_type": "code",
   "execution_count": 14,
   "metadata": {},
   "outputs": [
    {
     "data": {
      "image/png": "[encoded data removed]",
      "text/plain": [
       "<matplotlib.figure.Figure at 0xd33390>"
      ]
     },
     "metadata": {
      "needs_background": "light"
     },
     "output_type": "display_data"
    }
   ],
   "source": [
    "tracts = geopandas.GeoSeries([Polygon([(0,0), (0,2), (4,2), (4,0)]),\n",
    "                              Polygon([(0,2), (0,5), (4,5), (4,2)]),\n",
    "                              Polygon([(0,5), (0,7), (4,7), (4,5)])])\n",
    "                       \n",
    "stops = geopandas.GeoSeries([Polygon([(1,1), (3,1), (3,3), (1,3)]),\n",
    "                             Polygon([(1,4), (3,4), (3,6), (1,6)])])\n",
    "\n",
    "tracts = geopandas.GeoDataFrame({'geometry': tracts, 'tracts':['Tract1','Tract2','Tract3']})\n",
    "stops = geopandas.GeoDataFrame({'geometry': stops, 'stops':['Stop1','Stop2']})\n",
    "\n",
    "ax = tracts.plot(color='yellow', edgecolor='k');\n",
    "stops.plot(ax=ax, color='green', edgecolor='k', alpha=0.5);"
   ]
  },
  {
   "cell_type": "markdown",
   "metadata": {},
   "source": [
    "Now we perform the overlay command and specify union. The resulting output gives us the polygon where the stops and the tracts overlap! "
   ]
  },
  {
   "cell_type": "code",
   "execution_count": 15,
   "metadata": {},
   "outputs": [
    {
     "data": {
      "text/html": [
       "<div>\n",
       "<style>\n",
       "    .dataframe thead tr:only-child th {\n",
       "        text-align: right;\n",
       "    }\n",
       "\n",
       "    .dataframe thead th {\n",
       "        text-align: left;\n",
       "    }\n",
       "\n",
       "    .dataframe tbody tr th {\n",
       "        vertical-align: top;\n",
       "    }\n",
       "</style>\n",
       "<table border=\"1\" class=\"dataframe\">\n",
       "  <thead>\n",
       "    <tr style=\"text-align: right;\">\n",
       "      <th></th>\n",
       "      <th>stops</th>\n",
       "      <th>tracts</th>\n",
       "      <th>geometry</th>\n",
       "    </tr>\n",
       "  </thead>\n",
       "  <tbody>\n",
       "    <tr>\n",
       "      <th>0</th>\n",
       "      <td>Stop1</td>\n",
       "      <td>Tract1</td>\n",
       "      <td>POLYGON ((1 2, 3 2, 3 1, 1 1, 1 2))</td>\n",
       "    </tr>\n",
       "    <tr>\n",
       "      <th>1</th>\n",
       "      <td>Stop1</td>\n",
       "      <td>Tract2</td>\n",
       "      <td>POLYGON ((3 2, 1 2, 1 3, 3 3, 3 2))</td>\n",
       "    </tr>\n",
       "    <tr>\n",
       "      <th>2</th>\n",
       "      <td>Stop2</td>\n",
       "      <td>Tract2</td>\n",
       "      <td>POLYGON ((1 5, 3 5, 3 4, 1 4, 1 5))</td>\n",
       "    </tr>\n",
       "    <tr>\n",
       "      <th>3</th>\n",
       "      <td>Stop2</td>\n",
       "      <td>Tract3</td>\n",
       "      <td>POLYGON ((3 5, 1 5, 1 6, 3 6, 3 5))</td>\n",
       "    </tr>\n",
       "    <tr>\n",
       "      <th>4</th>\n",
       "      <td>NaN</td>\n",
       "      <td>Tract1</td>\n",
       "      <td>POLYGON ((0 0, 0 2, 1 2, 1 1, 3 1, 3 2, 4 2, 4...</td>\n",
       "    </tr>\n",
       "    <tr>\n",
       "      <th>5</th>\n",
       "      <td>NaN</td>\n",
       "      <td>Tract2</td>\n",
       "      <td>POLYGON ((0 2, 0 5, 1 5, 1 4, 3 4, 3 5, 4 5, 4...</td>\n",
       "    </tr>\n",
       "    <tr>\n",
       "      <th>6</th>\n",
       "      <td>NaN</td>\n",
       "      <td>Tract3</td>\n",
       "      <td>POLYGON ((0 5, 0 7, 4 7, 4 5, 3 5, 3 6, 1 6, 1...</td>\n",
       "    </tr>\n",
       "  </tbody>\n",
       "</table>\n",
       "</div>"
      ],
      "text/plain": [
       "   stops  tracts                                           geometry\n",
       "0  Stop1  Tract1                POLYGON ((1 2, 3 2, 3 1, 1 1, 1 2))\n",
       "1  Stop1  Tract2                POLYGON ((3 2, 1 2, 1 3, 3 3, 3 2))\n",
       "2  Stop2  Tract2                POLYGON ((1 5, 3 5, 3 4, 1 4, 1 5))\n",
       "3  Stop2  Tract3                POLYGON ((3 5, 1 5, 1 6, 3 6, 3 5))\n",
       "4    NaN  Tract1  POLYGON ((0 0, 0 2, 1 2, 1 1, 3 1, 3 2, 4 2, 4...\n",
       "5    NaN  Tract2  POLYGON ((0 2, 0 5, 1 5, 1 4, 3 4, 3 5, 4 5, 4...\n",
       "6    NaN  Tract3  POLYGON ((0 5, 0 7, 4 7, 4 5, 3 5, 3 6, 1 6, 1..."
      ]
     },
     "execution_count": 15,
     "metadata": {},
     "output_type": "execute_result"
    }
   ],
   "source": [
    "res_union = geopandas.overlay(tracts, stops, how='union')\n",
    "\n",
    "res_union"
   ]
  },
  {
   "cell_type": "code",
   "execution_count": 17,
   "metadata": {},
   "outputs": [
    {
     "data": {
      "text/html": [
       "<div>\n",
       "<style>\n",
       "    .dataframe thead tr:only-child th {\n",
       "        text-align: right;\n",
       "    }\n",
       "\n",
       "    .dataframe thead th {\n",
       "        text-align: left;\n",
       "    }\n",
       "\n",
       "    .dataframe tbody tr th {\n",
       "        vertical-align: top;\n",
       "    }\n",
       "</style>\n",
       "<table border=\"1\" class=\"dataframe\">\n",
       "  <thead>\n",
       "    <tr style=\"text-align: right;\">\n",
       "      <th></th>\n",
       "      <th>tracts</th>\n",
       "      <th>stops</th>\n",
       "      <th>geometry</th>\n",
       "    </tr>\n",
       "  </thead>\n",
       "  <tbody>\n",
       "    <tr>\n",
       "      <th>0</th>\n",
       "      <td>Tract1</td>\n",
       "      <td>Stop1</td>\n",
       "      <td>POLYGON ((1 2, 3 2, 3 1, 1 1, 1 2))</td>\n",
       "    </tr>\n",
       "    <tr>\n",
       "      <th>1</th>\n",
       "      <td>Tract2</td>\n",
       "      <td>Stop1</td>\n",
       "      <td>POLYGON ((3 2, 1 2, 1 3, 3 3, 3 2))</td>\n",
       "    </tr>\n",
       "    <tr>\n",
       "      <th>2</th>\n",
       "      <td>Tract2</td>\n",
       "      <td>Stop2</td>\n",
       "      <td>POLYGON ((1 5, 3 5, 3 4, 1 4, 1 5))</td>\n",
       "    </tr>\n",
       "    <tr>\n",
       "      <th>3</th>\n",
       "      <td>Tract3</td>\n",
       "      <td>Stop2</td>\n",
       "      <td>POLYGON ((3 5, 1 5, 1 6, 3 6, 3 5))</td>\n",
       "    </tr>\n",
       "  </tbody>\n",
       "</table>\n",
       "</div>"
      ],
      "text/plain": [
       "   tracts  stops                             geometry\n",
       "0  Tract1  Stop1  POLYGON ((1 2, 3 2, 3 1, 1 1, 1 2))\n",
       "1  Tract2  Stop1  POLYGON ((3 2, 1 2, 1 3, 3 3, 3 2))\n",
       "2  Tract2  Stop2  POLYGON ((1 5, 3 5, 3 4, 1 4, 1 5))\n",
       "3  Tract3  Stop2  POLYGON ((3 5, 1 5, 1 6, 3 6, 3 5))"
      ]
     },
     "execution_count": 17,
     "metadata": {},
     "output_type": "execute_result"
    }
   ],
   "source": [
    "res_union2 = geopandas.overlay(tracts, stops, how='intersection')\n",
    "\n",
    "res_union2"
   ]
  },
  {
   "cell_type": "code",
   "execution_count": 7,
   "metadata": {},
   "outputs": [
    {
     "data": {
      "image/png": "[encoded data removed]",
      "text/plain": [
       "<matplotlib.figure.Figure at 0xcee26d8>"
      ]
     },
     "metadata": {
      "needs_background": "light"
     },
     "output_type": "display_data"
    }
   ],
   "source": [
    "res_union2.plot(color='green', edgecolor='k', alpha=0.5);"
   ]
  },
  {
   "cell_type": "markdown",
   "metadata": {},
   "source": [
    "Next up is to test what happens when the stops overlap as well... Change the stop geometry to move Stop2 down so there is a partial overlap with Stop1."
   ]
  },
  {
   "cell_type": "code",
   "execution_count": 8,
   "metadata": {},
   "outputs": [
    {
     "data": {
      "image/png": "[encoded data removed]",
      "text/plain": [
       "<matplotlib.figure.Figure at 0x82b51d0>"
      ]
     },
     "metadata": {
      "needs_background": "light"
     },
     "output_type": "display_data"
    }
   ],
   "source": [
    "tracts = geopandas.GeoSeries([Polygon([(0,0), (0,2), (4,2), (4,0)]),\n",
    "                              Polygon([(0,2), (0,5), (4,5), (4,2)]),\n",
    "                              Polygon([(0,5), (0,7), (4,7), (4,5)])])\n",
    "                       \n",
    "stops = geopandas.GeoSeries([Polygon([(1,1), (3,1), (3,3), (1,3)]),\n",
    "                             Polygon([(1,2), (3,2), (3,4), (1,4)])])\n",
    "\n",
    "tracts = geopandas.GeoDataFrame({'geometry': tracts, 'tracts':['Tract1','Tract2','Tract3']})\n",
    "stops = geopandas.GeoDataFrame({'geometry': stops, 'stops':['Stop1','Stop2']})\n",
    "\n",
    "ax = tracts.plot(color='yellow', edgecolor='k');\n",
    "stops.plot(ax=ax, color='green', edgecolor='k', alpha=0.5);"
   ]
  },
  {
   "cell_type": "code",
   "execution_count": 9,
   "metadata": {},
   "outputs": [
    {
     "data": {
      "text/html": [
       "<div>\n",
       "<style>\n",
       "    .dataframe thead tr:only-child th {\n",
       "        text-align: right;\n",
       "    }\n",
       "\n",
       "    .dataframe thead th {\n",
       "        text-align: left;\n",
       "    }\n",
       "\n",
       "    .dataframe tbody tr th {\n",
       "        vertical-align: top;\n",
       "    }\n",
       "</style>\n",
       "<table border=\"1\" class=\"dataframe\">\n",
       "  <thead>\n",
       "    <tr style=\"text-align: right;\">\n",
       "      <th></th>\n",
       "      <th>stops</th>\n",
       "      <th>tracts</th>\n",
       "      <th>geometry</th>\n",
       "    </tr>\n",
       "  </thead>\n",
       "  <tbody>\n",
       "    <tr>\n",
       "      <th>0</th>\n",
       "      <td>Stop1</td>\n",
       "      <td>Tract1</td>\n",
       "      <td>POLYGON ((1 2, 3 2, 3 1, 1 1, 1 2))</td>\n",
       "    </tr>\n",
       "    <tr>\n",
       "      <th>1</th>\n",
       "      <td>Stop1</td>\n",
       "      <td>Tract2</td>\n",
       "      <td>POLYGON ((3 2, 1 2, 1 3, 3 3, 3 2))</td>\n",
       "    </tr>\n",
       "    <tr>\n",
       "      <th>2</th>\n",
       "      <td>Stop2</td>\n",
       "      <td>Tract2</td>\n",
       "      <td>POLYGON ((3 2, 1 2, 1 4, 3 4, 3 2))</td>\n",
       "    </tr>\n",
       "    <tr>\n",
       "      <th>3</th>\n",
       "      <td>NaN</td>\n",
       "      <td>Tract1</td>\n",
       "      <td>POLYGON ((0 0, 0 2, 1 2, 1 1, 3 1, 3 2, 4 2, 4...</td>\n",
       "    </tr>\n",
       "    <tr>\n",
       "      <th>4</th>\n",
       "      <td>NaN</td>\n",
       "      <td>Tract2</td>\n",
       "      <td>POLYGON ((0 2, 0 5, 4 5, 4 2, 3 2, 3 3, 3 4, 1...</td>\n",
       "    </tr>\n",
       "    <tr>\n",
       "      <th>5</th>\n",
       "      <td>NaN</td>\n",
       "      <td>Tract3</td>\n",
       "      <td>POLYGON ((0 5, 0 7, 4 7, 4 5, 0 5))</td>\n",
       "    </tr>\n",
       "  </tbody>\n",
       "</table>\n",
       "</div>"
      ],
      "text/plain": [
       "   stops  tracts                                           geometry\n",
       "0  Stop1  Tract1                POLYGON ((1 2, 3 2, 3 1, 1 1, 1 2))\n",
       "1  Stop1  Tract2                POLYGON ((3 2, 1 2, 1 3, 3 3, 3 2))\n",
       "2  Stop2  Tract2                POLYGON ((3 2, 1 2, 1 4, 3 4, 3 2))\n",
       "3    NaN  Tract1  POLYGON ((0 0, 0 2, 1 2, 1 1, 3 1, 3 2, 4 2, 4...\n",
       "4    NaN  Tract2  POLYGON ((0 2, 0 5, 4 5, 4 2, 3 2, 3 3, 3 4, 1...\n",
       "5    NaN  Tract3                POLYGON ((0 5, 0 7, 4 7, 4 5, 0 5))"
      ]
     },
     "execution_count": 9,
     "metadata": {},
     "output_type": "execute_result"
    }
   ],
   "source": [
    "res_union = geopandas.overlay(tracts, stops, how='union')\n",
    "\n",
    "res_union"
   ]
  },
  {
   "cell_type": "markdown",
   "metadata": {},
   "source": [
    "Seems to work fine! Stop2 union is only with Tract2 and it's for the full buffer. No funny business!"
   ]
  },
  {
   "cell_type": "code",
   "execution_count": 11,
   "metadata": {},
   "outputs": [
    {
     "data": {
      "text/html": [
       "<div>\n",
       "<style>\n",
       "    .dataframe thead tr:only-child th {\n",
       "        text-align: right;\n",
       "    }\n",
       "\n",
       "    .dataframe thead th {\n",
       "        text-align: left;\n",
       "    }\n",
       "\n",
       "    .dataframe tbody tr th {\n",
       "        vertical-align: top;\n",
       "    }\n",
       "</style>\n",
       "<table border=\"1\" class=\"dataframe\">\n",
       "  <thead>\n",
       "    <tr style=\"text-align: right;\">\n",
       "      <th></th>\n",
       "      <th>tracts</th>\n",
       "      <th>stops</th>\n",
       "      <th>geometry</th>\n",
       "    </tr>\n",
       "  </thead>\n",
       "  <tbody>\n",
       "    <tr>\n",
       "      <th>0</th>\n",
       "      <td>Tract1</td>\n",
       "      <td>Stop1</td>\n",
       "      <td>POLYGON ((1 2, 3 2, 3 1, 1 1, 1 2))</td>\n",
       "    </tr>\n",
       "    <tr>\n",
       "      <th>2</th>\n",
       "      <td>Tract2</td>\n",
       "      <td>Stop1</td>\n",
       "      <td>POLYGON ((3 2, 1 2, 1 3, 3 3, 3 2))</td>\n",
       "    </tr>\n",
       "    <tr>\n",
       "      <th>3</th>\n",
       "      <td>Tract2</td>\n",
       "      <td>Stop2</td>\n",
       "      <td>POLYGON ((3 2, 1 2, 1 4, 3 4, 3 2))</td>\n",
       "    </tr>\n",
       "  </tbody>\n",
       "</table>\n",
       "</div>"
      ],
      "text/plain": [
       "   tracts  stops                             geometry\n",
       "0  Tract1  Stop1  POLYGON ((1 2, 3 2, 3 1, 1 1, 1 2))\n",
       "2  Tract2  Stop1  POLYGON ((3 2, 1 2, 1 3, 3 3, 3 2))\n",
       "3  Tract2  Stop2  POLYGON ((3 2, 1 2, 1 4, 3 4, 3 2))"
      ]
     },
     "execution_count": 11,
     "metadata": {},
     "output_type": "execute_result"
    }
   ],
   "source": [
    "res_union3 = geopandas.overlay(tracts, stops, how='intersection')\n",
    "\n",
    "res_union3"
   ]
  },
  {
   "cell_type": "code",
   "execution_count": 12,
   "metadata": {},
   "outputs": [
    {
     "data": {
      "image/png": "[encoded data removed]",
      "text/plain": [
       "<matplotlib.figure.Figure at 0xdf28668>"
      ]
     },
     "metadata": {
      "needs_background": "light"
     },
     "output_type": "display_data"
    }
   ],
   "source": [
    "res_union3.plot(color='green', edgecolor='k', alpha=0.5);"
   ]
  }
 ],
 "metadata": {
  "kernelspec": {
   "display_name": "Python 3",
   "language": "python",
   "name": "python3"
  },
  "language_info": {
   "codemirror_mode": {
    "name": "ipython",
    "version": 3
   },
   "file_extension": ".py",
   "mimetype": "text/x-python",
   "name": "python",
   "nbconvert_exporter": "python",
   "pygments_lexer": "ipython3",
   "version": "3.7.0"
  }
 },
 "nbformat": 4,
 "nbformat_minor": 2
}
